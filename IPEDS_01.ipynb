{
 "cells": [
  {
   "cell_type": "markdown",
   "metadata": {},
   "source": [
    "# IPEDS Completetions Data Download and Anaysis"
   ]
  },
  {
   "cell_type": "markdown",
   "metadata": {},
   "source": [
    "<b>Install modules required</b>"
   ]
  },
  {
   "cell_type": "code",
   "execution_count": null,
   "metadata": {},
   "outputs": [],
   "source": [
    "from pip._internal import main"
   ]
  },
  {
   "cell_type": "markdown",
   "metadata": {},
   "source": [
    "<b>Defination to install modules if does not exists</b>"
   ]
  },
  {
   "cell_type": "code",
   "execution_count": null,
   "metadata": {},
   "outputs": [],
   "source": [
    "def module_install(package):\n",
    "    import importlib\n",
    "    print('Checking for the package:', package)\n",
    "    if (importlib.util.find_spec(package) is None):\n",
    "        print('Installing package :******* ', package)\n",
    "        try:\n",
    "            main(['install', package])\n",
    "        except Exception as exception:\n",
    "            print('Unable to install : ', package)\n",
    "            print('Exception message : ', exception.message)\n",
    "    else:\n",
    "        print('Already Installed : ', package)\n",
    "    print('\\n')"
   ]
  },
  {
   "cell_type": "code",
   "execution_count": null,
   "metadata": {},
   "outputs": [],
   "source": [
    "module_install('pandas')\n",
    "module_install('os')\n",
    "module_install('sys')\n",
    "module_install('requests')\n",
    "module_install('zipfile')\n",
    "module_install('io')"
   ]
  },
  {
   "cell_type": "markdown",
   "metadata": {},
   "source": [
    "<b>Import required modules</b>"
   ]
  },
  {
   "cell_type": "code",
   "execution_count": 4,
   "metadata": {},
   "outputs": [],
   "source": [
    "import pandas as pd\n",
    "import os\n",
    "import requests\n",
    "import sys\n",
    "import zipfile, io"
   ]
  },
  {
   "cell_type": "markdown",
   "metadata": {},
   "source": [
    "<b>Declare global variable used to store Data and define Filename</b>"
   ]
  },
  {
   "cell_type": "code",
   "execution_count": null,
   "metadata": {},
   "outputs": [],
   "source": [
    "file_name=\"Result.xlsx\"\n",
    "path=os.getcwd()+\"\\\\data\\\\\"\n",
    "years=[]"
   ]
  },
  {
   "cell_type": "markdown",
   "metadata": {},
   "source": [
    "<b>Method to take user input and create a folder for data download</b>"
   ]
  },
  {
   "cell_type": "code",
   "execution_count": 12,
   "metadata": {},
   "outputs": [],
   "source": [
    "def iter_input():\n",
    "    x, y = [int(x) for x in input(\"Enter the range of year you want to download the data:\").split()] \n",
    "    \n",
    "    try:\n",
    "        os.mkdir(path)\n",
    "    except OSError:\n",
    "        print(\"Creation of the directory %s failed\" % path)\n",
    "    else:\n",
    "        print(\"Successfully created the directory %s \" % path)\n",
    "    for i in range(x,y+1):\n",
    "        print(\"Downloading file for the year :\",i)\n",
    "        download_file(i)"
   ]
  },
  {
   "cell_type": "markdown",
   "metadata": {},
   "source": [
    "<b> Method to download the zip file of data and its dictionary for the year range specified by the user.</b>"
   ]
  },
  {
   "cell_type": "code",
   "execution_count": 1,
   "metadata": {},
   "outputs": [],
   "source": [
    "def download_file(val):\n",
    "    val=str(val)\n",
    "    urls=[\"https://nces.ed.gov/ipeds/datacenter/data/C\"+val+\"_C.zip\",\"https://nces.ed.gov/ipeds/datacenter/data/C\"+val+\"_C_Dict.zip\"]\n",
    "    for x in urls:\n",
    "        url_response(x,val)"
   ]
  },
  {
   "cell_type": "markdown",
   "metadata": {},
   "source": [
    "<b>Method to extract zip file if it exists</b>"
   ]
  },
  {
   "cell_type": "code",
   "execution_count": 17,
   "metadata": {},
   "outputs": [],
   "source": [
    "def url_response(url,val):\n",
    "\n",
    "    r = requests.get(url, stream=True)\n",
    "    #print(r.status_code)\n",
    "    if (r.status_code != 404):\n",
    "        \n",
    "        zip_ref = zipfile.ZipFile(io.BytesIO(r.content))\n",
    "        zip_ref.extractall(path)\n",
    "        zip_ref.close()\n",
    "        years.append(val)\n",
    "        #print(years)\n",
    "    else:\n",
    "        print(\"********File for this year not available!*******\")"
   ]
  },
  {
   "cell_type": "markdown",
   "metadata": {},
   "source": [
    "## Data Engineering"
   ]
  },
  {
   "cell_type": "markdown",
   "metadata": {},
   "source": [
    "<b>Method for reading file and Calculating results for Number of students recieving degree/awards by gender and Race/Ethnicity</b>"
   ]
  },
  {
   "cell_type": "code",
   "execution_count": 15,
   "metadata": {},
   "outputs": [],
   "source": [
    "def stat_add():\n",
    "    #fetch\n",
    "    years1 = list(set(years))\n",
    "    \n",
    "    print(\"Printing year that recorded:\", years1)\n",
    "    for i in range(len(years1)):\n",
    "        first_data=pd.read_csv(path+\"c\"+years1[i]+\"_c.csv\")\n",
    "        mapping = {1:'Award of less than 1 academic year',2:'Award of at least 1 but less than 4 academic years',3:'Associates degree',\n",
    "                   5:'Bachelors degree',7:'Masters degree',9:'Doctors degree',10:'Postbaccalaureate or Post-masters certificate'}\n",
    "        \n",
    "        first_data.AWLEVELC=[mapping[item] for item in first_data.AWLEVELC]\n",
    "        \n",
    "        group = first_data.groupby(['AWLEVELC']).sum()\n",
    "\n",
    "        group.rename(index=str, columns={\"CSTOTLT\": \"TOTAL\", \"CSTOTLM\": \"TOTAL MEN\", \"CSTOTLW\": \"TOTAL WOMEN\",\n",
    "                                         \"CSAIANT\": \"AMERICAN INDIAN OR ALASKA NATIVE\", \"CSASIAT\": \"ASIAN\",\n",
    "                                         \"CSBKAAT\": \"BLACK OR AFRICAN AMERICAN\",\n",
    "                                         \"CSHISPT\": \"HISPANIC OR LATIN\",\n",
    "                                         \"CSNHPIT\": \"NATIVE HAWAIIN OR OTHER PACIFIC ISLANDER\", \"CSWHITT\": \"WHITE\",\n",
    "                                         \"CSUNKNT\": \"UNKNOWN ETHNICITY\", \"CSNRALT\": \"NON ALEIN TOTAL\"}, inplace=True)\n",
    "        final = group[[\"TOTAL\", \"TOTAL MEN\", \"TOTAL WOMEN\", \"AMERICAN INDIAN OR ALASKA NATIVE\", \"ASIAN\", \"BLACK OR AFRICAN AMERICAN\",\n",
    "             \"HISPANIC OR LATIN\", \"NATIVE HAWAIIN OR OTHER PACIFIC ISLANDER\", \"WHITE\", \"UNKNOWN ETHNICITY\",\n",
    "             \"NON ALEIN TOTAL\"]]\n",
    "        #df.insert(-1, \"Year\", [val], True)\n",
    "        \n",
    "        final.insert(0,\"Year\",years1[i])\n",
    "           \n",
    "        if os.path.exists(file_name):\n",
    "            final.to_csv(file_name, mode='a',header=False)\n",
    "        else:\n",
    "            final.to_csv(file_name, mode='a',header=True)"
   ]
  },
  {
   "cell_type": "markdown",
   "metadata": {},
   "source": [
    "<b>Main Function</b>"
   ]
  },
  {
   "cell_type": "code",
   "execution_count": 19,
   "metadata": {},
   "outputs": [
    {
     "name": "stdout",
     "output_type": "stream",
     "text": [
      "Enter the range of year you want to download the data:2011 2017\n",
      "Creation of the directory C:\\Users\\018807852SA\\PycharmProjects\\iped\\venv\\data\\ failed\n",
      "Downloading file for the year : 2011\n",
      "********File for this year not available!*******\n",
      "********File for this year not available!*******\n",
      "Downloading file for the year : 2012\n",
      "Downloading file for the year : 2013\n",
      "Downloading file for the year : 2014\n",
      "Downloading file for the year : 2015\n",
      "Downloading file for the year : 2016\n",
      "Downloading file for the year : 2017\n",
      "Printing year that recorded: ['2016', '2014', '2012', '2013', '2017', '2015']\n",
      "Program completed!\n"
     ]
    }
   ],
   "source": [
    "if __name__ == \"__main__\":\n",
    "    iter_input()\n",
    "    stat_add()\n",
    "    print(\"Program completed!\")\n",
    "\n"
   ]
  }
 ],
 "metadata": {
  "kernelspec": {
   "display_name": "Python 3",
   "language": "python",
   "name": "python3"
  },
  "language_info": {
   "codemirror_mode": {
    "name": "ipython",
    "version": 3
   },
   "file_extension": ".py",
   "mimetype": "text/x-python",
   "name": "python",
   "nbconvert_exporter": "python",
   "pygments_lexer": "ipython3",
   "version": "3.7.0"
  }
 },
 "nbformat": 4,
 "nbformat_minor": 2
}
